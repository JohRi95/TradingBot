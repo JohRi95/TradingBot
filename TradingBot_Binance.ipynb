{
 "cells": [
  {
   "cell_type": "code",
   "execution_count": 4,
   "id": "216d68dd",
   "metadata": {},
   "outputs": [],
   "source": [
    "import sys\n",
    "#!{sys.executable} -m pip install ccxt pandas\n",
    "import ccxt\n",
    "import pandas as pd"
   ]
  },
  {
   "cell_type": "code",
   "execution_count": 5,
   "id": "99ad980c",
   "metadata": {},
   "outputs": [],
   "source": [
    "exchange = ccxt.binance({\n",
    "    'apiKey': 'YOUR_API_KEY',\n",
    "    'secret': 'YOUR_SECRET_KEY',\n",
    "    'enableRateLimit': True,\n",
    "})"
   ]
  },
  {
   "cell_type": "code",
   "execution_count": 6,
   "id": "e1c946c8",
   "metadata": {},
   "outputs": [],
   "source": [
    "def fetch_ohlcv(symbol, timeframe):\n",
    "    ohlcv = exchange.fetch_ohlcv(symbol, timeframe)\n",
    "    df = pd.DataFrame(ohlcv, columns=['timestamp', 'open', 'high', 'low', 'close', 'volume'])\n",
    "    df['timestamp'] = pd.to_datetime(df['timestamp'], unit='ms')\n",
    "    return df"
   ]
  },
  {
   "cell_type": "code",
   "execution_count": 7,
   "id": "a62cb3ba",
   "metadata": {},
   "outputs": [],
   "source": [
    "def calculate_moving_averages(df, short_window, long_window):\n",
    "    df['short_mavg'] = df['close'].rolling(window=short_window).mean()\n",
    "    df['long_mavg'] = df['close'].rolling(window=long_window).mean()\n",
    "    return df"
   ]
  },
  {
   "cell_type": "code",
   "execution_count": 8,
   "id": "2046ee4a",
   "metadata": {},
   "outputs": [],
   "source": [
    "def execute_orders(df):\n",
    "    in_position = False\n",
    "\n",
    "    for index, row in df.iterrows():\n",
    "        if row['short_mavg'] > row['long_mavg'] and not in_position:\n",
    "            print(\"Buy\")\n",
    "            # exchange.create_market_buy_order('BTC/USDT', amount)\n",
    "            in_position = True\n",
    "        elif row['short_mavg'] < row['long_mavg'] and in_position:\n",
    "            print(\"Sell\")\n",
    "            # exchange.create_market_sell_order('BTC/USDT', amount)\n",
    "            in_position = False"
   ]
  },
  {
   "cell_type": "code",
   "execution_count": 9,
   "id": "ac8daf82",
   "metadata": {},
   "outputs": [
    {
     "ename": "AuthenticationError",
     "evalue": "binance {\"code\":-2008,\"msg\":\"Invalid Api-Key ID.\"}",
     "output_type": "error",
     "traceback": [
      "\u001b[0;31m---------------------------------------------------------------------------\u001b[0m",
      "\u001b[0;31mHTTPError\u001b[0m                                 Traceback (most recent call last)",
      "File \u001b[0;32m~/anaconda3/lib/python3.11/site-packages/ccxt/base/exchange.py:616\u001b[0m, in \u001b[0;36mExchange.fetch\u001b[0;34m(self, url, method, headers, body)\u001b[0m\n\u001b[1;32m    615\u001b[0m     \u001b[38;5;28mself\u001b[39m\u001b[38;5;241m.\u001b[39mlogger\u001b[38;5;241m.\u001b[39mdebug(\u001b[38;5;124m\"\u001b[39m\u001b[38;5;132;01m%s\u001b[39;00m\u001b[38;5;124m \u001b[39m\u001b[38;5;132;01m%s\u001b[39;00m\u001b[38;5;124m, Response: \u001b[39m\u001b[38;5;132;01m%s\u001b[39;00m\u001b[38;5;124m \u001b[39m\u001b[38;5;132;01m%s\u001b[39;00m\u001b[38;5;124m \u001b[39m\u001b[38;5;132;01m%s\u001b[39;00m\u001b[38;5;124m\"\u001b[39m, method, url, http_status_code, headers, http_response)\n\u001b[0;32m--> 616\u001b[0m     response\u001b[38;5;241m.\u001b[39mraise_for_status()\n\u001b[1;32m    618\u001b[0m \u001b[38;5;28;01mexcept\u001b[39;00m Timeout \u001b[38;5;28;01mas\u001b[39;00m e:\n",
      "File \u001b[0;32m~/anaconda3/lib/python3.11/site-packages/requests/models.py:1021\u001b[0m, in \u001b[0;36mResponse.raise_for_status\u001b[0;34m(self)\u001b[0m\n\u001b[1;32m   1020\u001b[0m \u001b[38;5;28;01mif\u001b[39;00m http_error_msg:\n\u001b[0;32m-> 1021\u001b[0m     \u001b[38;5;28;01mraise\u001b[39;00m HTTPError(http_error_msg, response\u001b[38;5;241m=\u001b[39m\u001b[38;5;28mself\u001b[39m)\n",
      "\u001b[0;31mHTTPError\u001b[0m: 400 Client Error:  for url: https://api.binance.com/sapi/v1/capital/config/getall?timestamp=1702115599092&recvWindow=10000&signature=389670c77d37b65b72dbc8a4dbcabfd6f6e438b38fa94d3441f0451307800846",
      "\nDuring handling of the above exception, another exception occurred:\n",
      "\u001b[0;31mAuthenticationError\u001b[0m                       Traceback (most recent call last)",
      "Cell \u001b[0;32mIn[9], line 6\u001b[0m\n\u001b[1;32m      3\u001b[0m short_window \u001b[38;5;241m=\u001b[39m \u001b[38;5;241m50\u001b[39m\n\u001b[1;32m      4\u001b[0m long_window \u001b[38;5;241m=\u001b[39m \u001b[38;5;241m100\u001b[39m\n\u001b[0;32m----> 6\u001b[0m df \u001b[38;5;241m=\u001b[39m fetch_ohlcv(symbol, timeframe)\n\u001b[1;32m      7\u001b[0m df \u001b[38;5;241m=\u001b[39m calculate_moving_averages(df, short_window, long_window)\n\u001b[1;32m      8\u001b[0m execute_orders(df)\n",
      "Cell \u001b[0;32mIn[6], line 2\u001b[0m, in \u001b[0;36mfetch_ohlcv\u001b[0;34m(symbol, timeframe)\u001b[0m\n\u001b[1;32m      1\u001b[0m \u001b[38;5;28;01mdef\u001b[39;00m \u001b[38;5;21mfetch_ohlcv\u001b[39m(symbol, timeframe):\n\u001b[0;32m----> 2\u001b[0m     ohlcv \u001b[38;5;241m=\u001b[39m exchange\u001b[38;5;241m.\u001b[39mfetch_ohlcv(symbol, timeframe)\n\u001b[1;32m      3\u001b[0m     df \u001b[38;5;241m=\u001b[39m pd\u001b[38;5;241m.\u001b[39mDataFrame(ohlcv, columns\u001b[38;5;241m=\u001b[39m[\u001b[38;5;124m'\u001b[39m\u001b[38;5;124mtimestamp\u001b[39m\u001b[38;5;124m'\u001b[39m, \u001b[38;5;124m'\u001b[39m\u001b[38;5;124mopen\u001b[39m\u001b[38;5;124m'\u001b[39m, \u001b[38;5;124m'\u001b[39m\u001b[38;5;124mhigh\u001b[39m\u001b[38;5;124m'\u001b[39m, \u001b[38;5;124m'\u001b[39m\u001b[38;5;124mlow\u001b[39m\u001b[38;5;124m'\u001b[39m, \u001b[38;5;124m'\u001b[39m\u001b[38;5;124mclose\u001b[39m\u001b[38;5;124m'\u001b[39m, \u001b[38;5;124m'\u001b[39m\u001b[38;5;124mvolume\u001b[39m\u001b[38;5;124m'\u001b[39m])\n\u001b[1;32m      4\u001b[0m     df[\u001b[38;5;124m'\u001b[39m\u001b[38;5;124mtimestamp\u001b[39m\u001b[38;5;124m'\u001b[39m] \u001b[38;5;241m=\u001b[39m pd\u001b[38;5;241m.\u001b[39mto_datetime(df[\u001b[38;5;124m'\u001b[39m\u001b[38;5;124mtimestamp\u001b[39m\u001b[38;5;124m'\u001b[39m], unit\u001b[38;5;241m=\u001b[39m\u001b[38;5;124m'\u001b[39m\u001b[38;5;124mms\u001b[39m\u001b[38;5;124m'\u001b[39m)\n",
      "File \u001b[0;32m~/anaconda3/lib/python3.11/site-packages/ccxt/binance.py:3245\u001b[0m, in \u001b[0;36mbinance.fetch_ohlcv\u001b[0;34m(self, symbol, timeframe, since, limit, params)\u001b[0m\n\u001b[1;32m   3224\u001b[0m \u001b[38;5;28;01mdef\u001b[39;00m \u001b[38;5;21mfetch_ohlcv\u001b[39m(\u001b[38;5;28mself\u001b[39m, symbol: \u001b[38;5;28mstr\u001b[39m, timeframe\u001b[38;5;241m=\u001b[39m\u001b[38;5;124m'\u001b[39m\u001b[38;5;124m1m\u001b[39m\u001b[38;5;124m'\u001b[39m, since: Int \u001b[38;5;241m=\u001b[39m \u001b[38;5;28;01mNone\u001b[39;00m, limit: Int \u001b[38;5;241m=\u001b[39m \u001b[38;5;28;01mNone\u001b[39;00m, params\u001b[38;5;241m=\u001b[39m{}) \u001b[38;5;241m-\u001b[39m\u001b[38;5;241m>\u001b[39m List[\u001b[38;5;28mlist\u001b[39m]:\n\u001b[1;32m   3225\u001b[0m \u001b[38;5;250m    \u001b[39m\u001b[38;5;124;03m\"\"\"\u001b[39;00m\n\u001b[1;32m   3226\u001b[0m \u001b[38;5;124;03m    fetches historical candlestick data containing the open, high, low, and close price, and the volume of a market\u001b[39;00m\n\u001b[1;32m   3227\u001b[0m \u001b[38;5;124;03m    :see: https://binance-docs.github.io/apidocs/spot/en/#kline-candlestick-data\u001b[39;00m\n\u001b[0;32m   (...)\u001b[0m\n\u001b[1;32m   3243\u001b[0m \u001b[38;5;124;03m    :returns int[][]: A list of candles ordered, open, high, low, close, volume\u001b[39;00m\n\u001b[1;32m   3244\u001b[0m \u001b[38;5;124;03m    \"\"\"\u001b[39;00m\n\u001b[0;32m-> 3245\u001b[0m     \u001b[38;5;28mself\u001b[39m\u001b[38;5;241m.\u001b[39mload_markets()\n\u001b[1;32m   3246\u001b[0m     paginate \u001b[38;5;241m=\u001b[39m \u001b[38;5;28;01mFalse\u001b[39;00m\n\u001b[1;32m   3247\u001b[0m     paginate, params \u001b[38;5;241m=\u001b[39m \u001b[38;5;28mself\u001b[39m\u001b[38;5;241m.\u001b[39mhandle_option_and_params(params, \u001b[38;5;124m'\u001b[39m\u001b[38;5;124mfetchOHLCV\u001b[39m\u001b[38;5;124m'\u001b[39m, \u001b[38;5;124m'\u001b[39m\u001b[38;5;124mpaginate\u001b[39m\u001b[38;5;124m'\u001b[39m, \u001b[38;5;28;01mFalse\u001b[39;00m)\n",
      "File \u001b[0;32m~/anaconda3/lib/python3.11/site-packages/ccxt/base/exchange.py:1457\u001b[0m, in \u001b[0;36mExchange.load_markets\u001b[0;34m(self, reload, params)\u001b[0m\n\u001b[1;32m   1455\u001b[0m currencies \u001b[38;5;241m=\u001b[39m \u001b[38;5;28;01mNone\u001b[39;00m\n\u001b[1;32m   1456\u001b[0m \u001b[38;5;28;01mif\u001b[39;00m \u001b[38;5;28mself\u001b[39m\u001b[38;5;241m.\u001b[39mhas[\u001b[38;5;124m'\u001b[39m\u001b[38;5;124mfetchCurrencies\u001b[39m\u001b[38;5;124m'\u001b[39m] \u001b[38;5;129;01mis\u001b[39;00m \u001b[38;5;28;01mTrue\u001b[39;00m:\n\u001b[0;32m-> 1457\u001b[0m     currencies \u001b[38;5;241m=\u001b[39m \u001b[38;5;28mself\u001b[39m\u001b[38;5;241m.\u001b[39mfetch_currencies()\n\u001b[1;32m   1458\u001b[0m markets \u001b[38;5;241m=\u001b[39m \u001b[38;5;28mself\u001b[39m\u001b[38;5;241m.\u001b[39mfetch_markets(params)\n\u001b[1;32m   1459\u001b[0m \u001b[38;5;28;01mreturn\u001b[39;00m \u001b[38;5;28mself\u001b[39m\u001b[38;5;241m.\u001b[39mset_markets(markets, currencies)\n",
      "File \u001b[0;32m~/anaconda3/lib/python3.11/site-packages/ccxt/binance.py:1849\u001b[0m, in \u001b[0;36mbinance.fetch_currencies\u001b[0;34m(self, params)\u001b[0m\n\u001b[1;32m   1847\u001b[0m \u001b[38;5;28;01mif\u001b[39;00m apiBackup \u001b[38;5;129;01mis\u001b[39;00m \u001b[38;5;129;01mnot\u001b[39;00m \u001b[38;5;28;01mNone\u001b[39;00m:\n\u001b[1;32m   1848\u001b[0m     \u001b[38;5;28;01mreturn\u001b[39;00m \u001b[38;5;28;01mNone\u001b[39;00m\n\u001b[0;32m-> 1849\u001b[0m response \u001b[38;5;241m=\u001b[39m \u001b[38;5;28mself\u001b[39m\u001b[38;5;241m.\u001b[39msapiGetCapitalConfigGetall(params)\n\u001b[1;32m   1850\u001b[0m result \u001b[38;5;241m=\u001b[39m {}\n\u001b[1;32m   1851\u001b[0m \u001b[38;5;28;01mfor\u001b[39;00m i \u001b[38;5;129;01min\u001b[39;00m \u001b[38;5;28mrange\u001b[39m(\u001b[38;5;241m0\u001b[39m, \u001b[38;5;28mlen\u001b[39m(response)):\n\u001b[1;32m   1852\u001b[0m     \u001b[38;5;66;03m#\u001b[39;00m\n\u001b[1;32m   1853\u001b[0m     \u001b[38;5;66;03m#    {\u001b[39;00m\n\u001b[0;32m   (...)\u001b[0m\n\u001b[1;32m   1945\u001b[0m     \u001b[38;5;66;03m#    }\u001b[39;00m\n\u001b[1;32m   1946\u001b[0m     \u001b[38;5;66;03m#\u001b[39;00m\n",
      "File \u001b[0;32m~/anaconda3/lib/python3.11/site-packages/ccxt/base/types.py:34\u001b[0m, in \u001b[0;36mEntry.__init__.<locals>.unbound_method\u001b[0;34m(_self, params)\u001b[0m\n\u001b[1;32m     33\u001b[0m \u001b[38;5;28;01mdef\u001b[39;00m \u001b[38;5;21munbound_method\u001b[39m(_self, params\u001b[38;5;241m=\u001b[39m{}):\n\u001b[0;32m---> 34\u001b[0m     \u001b[38;5;28;01mreturn\u001b[39;00m _self\u001b[38;5;241m.\u001b[39mrequest(\u001b[38;5;28mself\u001b[39m\u001b[38;5;241m.\u001b[39mpath, \u001b[38;5;28mself\u001b[39m\u001b[38;5;241m.\u001b[39mapi, \u001b[38;5;28mself\u001b[39m\u001b[38;5;241m.\u001b[39mmethod, params, config\u001b[38;5;241m=\u001b[39m\u001b[38;5;28mself\u001b[39m\u001b[38;5;241m.\u001b[39mconfig)\n",
      "File \u001b[0;32m~/anaconda3/lib/python3.11/site-packages/ccxt/binance.py:8055\u001b[0m, in \u001b[0;36mbinance.request\u001b[0;34m(self, path, api, method, params, headers, body, config, context)\u001b[0m\n\u001b[1;32m   8054\u001b[0m \u001b[38;5;28;01mdef\u001b[39;00m \u001b[38;5;21mrequest\u001b[39m(\u001b[38;5;28mself\u001b[39m, path, api\u001b[38;5;241m=\u001b[39m\u001b[38;5;124m'\u001b[39m\u001b[38;5;124mpublic\u001b[39m\u001b[38;5;124m'\u001b[39m, method\u001b[38;5;241m=\u001b[39m\u001b[38;5;124m'\u001b[39m\u001b[38;5;124mGET\u001b[39m\u001b[38;5;124m'\u001b[39m, params\u001b[38;5;241m=\u001b[39m{}, headers\u001b[38;5;241m=\u001b[39m\u001b[38;5;28;01mNone\u001b[39;00m, body\u001b[38;5;241m=\u001b[39m\u001b[38;5;28;01mNone\u001b[39;00m, config\u001b[38;5;241m=\u001b[39m{}, context\u001b[38;5;241m=\u001b[39m{}):\n\u001b[0;32m-> 8055\u001b[0m     response \u001b[38;5;241m=\u001b[39m \u001b[38;5;28mself\u001b[39m\u001b[38;5;241m.\u001b[39mfetch2(path, api, method, params, headers, body, config)\n\u001b[1;32m   8056\u001b[0m     \u001b[38;5;66;03m# a workaround for {\"code\":-2015,\"msg\":\"Invalid API-key, IP, or permissions for action.\"}\u001b[39;00m\n\u001b[1;32m   8057\u001b[0m     \u001b[38;5;28;01mif\u001b[39;00m api \u001b[38;5;241m==\u001b[39m \u001b[38;5;124m'\u001b[39m\u001b[38;5;124mprivate\u001b[39m\u001b[38;5;124m'\u001b[39m:\n",
      "File \u001b[0;32m~/anaconda3/lib/python3.11/site-packages/ccxt/base/exchange.py:3315\u001b[0m, in \u001b[0;36mExchange.fetch2\u001b[0;34m(self, path, api, method, params, headers, body, config)\u001b[0m\n\u001b[1;32m   3313\u001b[0m \u001b[38;5;28mself\u001b[39m\u001b[38;5;241m.\u001b[39mlast_request_body \u001b[38;5;241m=\u001b[39m request[\u001b[38;5;124m'\u001b[39m\u001b[38;5;124mbody\u001b[39m\u001b[38;5;124m'\u001b[39m]\n\u001b[1;32m   3314\u001b[0m \u001b[38;5;28mself\u001b[39m\u001b[38;5;241m.\u001b[39mlast_request_url \u001b[38;5;241m=\u001b[39m request[\u001b[38;5;124m'\u001b[39m\u001b[38;5;124murl\u001b[39m\u001b[38;5;124m'\u001b[39m]\n\u001b[0;32m-> 3315\u001b[0m \u001b[38;5;28;01mreturn\u001b[39;00m \u001b[38;5;28mself\u001b[39m\u001b[38;5;241m.\u001b[39mfetch(request[\u001b[38;5;124m'\u001b[39m\u001b[38;5;124murl\u001b[39m\u001b[38;5;124m'\u001b[39m], request[\u001b[38;5;124m'\u001b[39m\u001b[38;5;124mmethod\u001b[39m\u001b[38;5;124m'\u001b[39m], request[\u001b[38;5;124m'\u001b[39m\u001b[38;5;124mheaders\u001b[39m\u001b[38;5;124m'\u001b[39m], request[\u001b[38;5;124m'\u001b[39m\u001b[38;5;124mbody\u001b[39m\u001b[38;5;124m'\u001b[39m])\n",
      "File \u001b[0;32m~/anaconda3/lib/python3.11/site-packages/ccxt/base/exchange.py:632\u001b[0m, in \u001b[0;36mExchange.fetch\u001b[0;34m(self, url, method, headers, body)\u001b[0m\n\u001b[1;32m    630\u001b[0m \u001b[38;5;28;01mexcept\u001b[39;00m HTTPError \u001b[38;5;28;01mas\u001b[39;00m e:\n\u001b[1;32m    631\u001b[0m     details \u001b[38;5;241m=\u001b[39m \u001b[38;5;124m'\u001b[39m\u001b[38;5;124m \u001b[39m\u001b[38;5;124m'\u001b[39m\u001b[38;5;241m.\u001b[39mjoin([\u001b[38;5;28mself\u001b[39m\u001b[38;5;241m.\u001b[39mid, method, url])\n\u001b[0;32m--> 632\u001b[0m     skip_further_error_handling \u001b[38;5;241m=\u001b[39m \u001b[38;5;28mself\u001b[39m\u001b[38;5;241m.\u001b[39mhandle_errors(http_status_code, http_status_text, url, method, headers, http_response, json_response, request_headers, request_body)\n\u001b[1;32m    633\u001b[0m     \u001b[38;5;28;01mif\u001b[39;00m \u001b[38;5;129;01mnot\u001b[39;00m skip_further_error_handling:\n\u001b[1;32m    634\u001b[0m         \u001b[38;5;28mself\u001b[39m\u001b[38;5;241m.\u001b[39mhandle_http_status_code(http_status_code, http_status_text, url, method, http_response)\n",
      "File \u001b[0;32m~/anaconda3/lib/python3.11/site-packages/ccxt/binance.py:8024\u001b[0m, in \u001b[0;36mbinance.handle_errors\u001b[0;34m(self, code, reason, url, method, headers, body, response, requestHeaders, requestBody)\u001b[0m\n\u001b[1;32m   8017\u001b[0m     \u001b[38;5;28;01mif\u001b[39;00m message \u001b[38;5;241m==\u001b[39m \u001b[38;5;124m'\u001b[39m\u001b[38;5;124mNo need to change margin type.\u001b[39m\u001b[38;5;124m'\u001b[39m:\n\u001b[1;32m   8018\u001b[0m         \u001b[38;5;66;03m# not an error\u001b[39;00m\n\u001b[1;32m   8019\u001b[0m         \u001b[38;5;66;03m# https://github.com/ccxt/ccxt/issues/11268\u001b[39;00m\n\u001b[1;32m   8020\u001b[0m         \u001b[38;5;66;03m# https://github.com/ccxt/ccxt/pull/11624\u001b[39;00m\n\u001b[1;32m   8021\u001b[0m         \u001b[38;5;66;03m# POST https://fapi.binance.com/fapi/v1/marginType 400 Bad Request\u001b[39;00m\n\u001b[1;32m   8022\u001b[0m         \u001b[38;5;66;03m# binanceusdm {\"code\":-4046,\"msg\":\"No need to change margin type.\"}\u001b[39;00m\n\u001b[1;32m   8023\u001b[0m         \u001b[38;5;28;01mraise\u001b[39;00m MarginModeAlreadySet(feedback)\n\u001b[0;32m-> 8024\u001b[0m     \u001b[38;5;28mself\u001b[39m\u001b[38;5;241m.\u001b[39mthrow_exactly_matched_exception(\u001b[38;5;28mself\u001b[39m\u001b[38;5;241m.\u001b[39mexceptions[\u001b[38;5;124m'\u001b[39m\u001b[38;5;124mexact\u001b[39m\u001b[38;5;124m'\u001b[39m], error, feedback)\n\u001b[1;32m   8025\u001b[0m     \u001b[38;5;28;01mraise\u001b[39;00m ExchangeError(feedback)\n\u001b[1;32m   8026\u001b[0m \u001b[38;5;28;01mif\u001b[39;00m \u001b[38;5;129;01mnot\u001b[39;00m success:\n",
      "File \u001b[0;32m~/anaconda3/lib/python3.11/site-packages/ccxt/base/exchange.py:3655\u001b[0m, in \u001b[0;36mExchange.throw_exactly_matched_exception\u001b[0;34m(self, exact, string, message)\u001b[0m\n\u001b[1;32m   3653\u001b[0m \u001b[38;5;28;01mdef\u001b[39;00m \u001b[38;5;21mthrow_exactly_matched_exception\u001b[39m(\u001b[38;5;28mself\u001b[39m, exact, string, message):\n\u001b[1;32m   3654\u001b[0m     \u001b[38;5;28;01mif\u001b[39;00m string \u001b[38;5;129;01min\u001b[39;00m exact:\n\u001b[0;32m-> 3655\u001b[0m         \u001b[38;5;28;01mraise\u001b[39;00m exact[string](message)\n",
      "\u001b[0;31mAuthenticationError\u001b[0m: binance {\"code\":-2008,\"msg\":\"Invalid Api-Key ID.\"}"
     ]
    }
   ],
   "source": [
    "symbol = 'BTC/USDT'\n",
    "timeframe = '1h'\n",
    "short_window = 50\n",
    "long_window = 100\n",
    "\n",
    "df = fetch_ohlcv(symbol, timeframe)\n",
    "df = calculate_moving_averages(df, short_window, long_window)\n",
    "execute_orders(df)"
   ]
  },
  {
   "cell_type": "code",
   "execution_count": null,
   "id": "e74d07cb",
   "metadata": {},
   "outputs": [],
   "source": []
  }
 ],
 "metadata": {
  "kernelspec": {
   "display_name": "Python 3 (ipykernel)",
   "language": "python",
   "name": "python3"
  },
  "language_info": {
   "codemirror_mode": {
    "name": "ipython",
    "version": 3
   },
   "file_extension": ".py",
   "mimetype": "text/x-python",
   "name": "python",
   "nbconvert_exporter": "python",
   "pygments_lexer": "ipython3",
   "version": "3.11.5"
  }
 },
 "nbformat": 4,
 "nbformat_minor": 5
}
